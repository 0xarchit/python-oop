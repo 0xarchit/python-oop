{
 "cells": [
  {
   "cell_type": "code",
   "execution_count": 9,
   "metadata": {},
   "outputs": [
    {
     "name": "stdout",
     "output_type": "stream",
     "text": [
      "(<class '__main__.C'>, <class '__main__.A'>, <class '__main__.B'>, <class 'object'>)\n"
     ]
    }
   ],
   "source": [
    "# MRO: Method Resolution Order \n",
    "\n",
    "class A:\n",
    "    def disp(self):\n",
    "        print('print from class A')\n",
    "\n",
    "class B:\n",
    "    def disp(self):\n",
    "        print('print from class B')\n",
    "\n",
    "class C(A, B):\n",
    "    pass\n",
    "\n",
    "print(C.__mro__)\n"
   ]
  },
  {
   "cell_type": "code",
   "execution_count": null,
   "metadata": {},
   "outputs": [],
   "source": []
  },
  {
   "cell_type": "code",
   "execution_count": 8,
   "metadata": {},
   "outputs": [
    {
     "name": "stdout",
     "output_type": "stream",
     "text": [
      "(<class '__main__.sample'>, <class 'object'>)\n"
     ]
    }
   ],
   "source": [
    "class sample:\n",
    "    pass\n",
    "\n",
    "obj = sample()\n",
    "print(sample.__mro__)"
   ]
  },
  {
   "cell_type": "code",
   "execution_count": 10,
   "metadata": {},
   "outputs": [
    {
     "name": "stdout",
     "output_type": "stream",
     "text": [
      "(<class '__main__.C'>, <class '__main__.A'>, <class '__main__.B'>, <class '__main__.Parent'>, <class 'object'>)\n"
     ]
    }
   ],
   "source": [
    "# MRO: Method Resolution Order \n",
    "class Parent:\n",
    "    def disp(self):\n",
    "        print('print from class Parent')\n",
    "class A(Parent):\n",
    "    def disp(self):\n",
    "        print('print from class A')\n",
    "\n",
    "class B(Parent):\n",
    "    def disp(self):\n",
    "        print('print from class B')\n",
    "\n",
    "class C(A, B):\n",
    "    pass\n",
    "\n",
    "print(C.__mro__)\n"
   ]
  },
  {
   "cell_type": "code",
   "execution_count": 14,
   "metadata": {},
   "outputs": [
    {
     "name": "stdout",
     "output_type": "stream",
     "text": [
      "print from B\n",
      "print from A\n",
      "(<class '__main__.B'>, <class '__main__.A'>, <class 'object'>)\n"
     ]
    }
   ],
   "source": [
    "class A:\n",
    "    def disp(self):\n",
    "        print('print from A')\n",
    "\n",
    "class B(A):\n",
    "    def disp(self):\n",
    "        print('print from B')\n",
    "        super().disp()\n",
    "\n",
    "obj = B()\n",
    "obj.disp()\n",
    "print(B.__mro__)"
   ]
  },
  {
   "cell_type": "code",
   "execution_count": 20,
   "metadata": {},
   "outputs": [
    {
     "name": "stdout",
     "output_type": "stream",
     "text": [
      "[<class '__main__.C'>, <class '__main__.A'>, <class '__main__.Parent1'>, <class '__main__.B'>, <class '__main__.Parent2'>, <class 'object'>]\n"
     ]
    }
   ],
   "source": [
    "# MRO: Method Resolution Order \n",
    "class Parent1:\n",
    "    def disp(self):\n",
    "        print('print from class Parent1')\n",
    "class Parent2:\n",
    "    def disp(self):\n",
    "        print('print from class Parent2')\n",
    "class A(Parent1):\n",
    "    def disp(self):\n",
    "        print('print from class A')\n",
    "        super().disp()\n",
    "\n",
    "class B(Parent2):\n",
    "    def disp(self):\n",
    "        print('print from class B')\n",
    "\n",
    "class C(A, B):\n",
    "    def disp(self):\n",
    "        print('print from class C')\n",
    "        super().disp()\n",
    "\n",
    "print(C.mro())\n",
    "# obj = C()\n",
    "# obj.disp()\n"
   ]
  },
  {
   "cell_type": "code",
   "execution_count": 11,
   "metadata": {},
   "outputs": [],
   "source": [
    "class A:\n",
    "    def disp(self):\n",
    "        print('prit from A')\n",
    "    def display(self):\n",
    "        print('print from display A')\n",
    "\n",
    "class B:\n",
    "    def disp(self):\n",
    "        print('prit from B')\n",
    "obj = B()\n",
    "# obj.display()"
   ]
  },
  {
   "cell_type": "code",
   "execution_count": 6,
   "metadata": {},
   "outputs": [
    {
     "data": {
      "text/plain": [
       "(__main__.B, __main__.A, object)"
      ]
     },
     "execution_count": 6,
     "metadata": {},
     "output_type": "execute_result"
    }
   ],
   "source": [
    "B.__mro__"
   ]
  },
  {
   "cell_type": "code",
   "execution_count": 12,
   "metadata": {},
   "outputs": [
    {
     "data": {
      "text/plain": [
       "[__main__.myclass, __main__.A, __main__.B, object]"
      ]
     },
     "execution_count": 12,
     "metadata": {},
     "output_type": "execute_result"
    }
   ],
   "source": [
    "class myclass(A, B):\n",
    "    pass\n",
    "\n",
    "myclass.mro()"
   ]
  },
  {
   "cell_type": "code",
   "execution_count": 24,
   "metadata": {},
   "outputs": [
    {
     "data": {
      "text/plain": [
       "[__main__.D, __main__.B, __main__.A1, __main__.C, __main__.A2, object]"
      ]
     },
     "execution_count": 24,
     "metadata": {},
     "output_type": "execute_result"
    }
   ],
   "source": [
    "class A1:\n",
    "    def disp(self):\n",
    "        print('print from A1')\n",
    "        super().disp()\n",
    "class A2:\n",
    "    def disp(self):\n",
    "        print('print from A2')\n",
    "\n",
    "        \n",
    "class B(A1):\n",
    "    def disp(self):\n",
    "        print('print from B')\n",
    "        super().disp()\n",
    "\n",
    "    \n",
    "class C(A2):\n",
    "    def disp(self):\n",
    "        print('print from C')\n",
    "        super().disp()\n",
    "    \n",
    "\n",
    "class D(B, C):\n",
    "    def disp(self):\n",
    "        print('print from D')\n",
    "        super().disp()\n",
    "\n",
    "obj = D()\n",
    "D.mro()\n"
   ]
  },
  {
   "cell_type": "code",
   "execution_count": 18,
   "metadata": {},
   "outputs": [
    {
     "name": "stdout",
     "output_type": "stream",
     "text": [
      "print from B\n",
      "print from A\n"
     ]
    }
   ],
   "source": [
    "class A:\n",
    "    def disp(self):\n",
    "        print('print from A')\n",
    "class B(A):\n",
    "    def disp(self):\n",
    "        print('print from B')\n",
    "        super().disp()\n",
    "obj = B()\n",
    "obj.disp()"
   ]
  }
 ],
 "metadata": {
  "kernelspec": {
   "display_name": "Python 3",
   "language": "python",
   "name": "python3"
  },
  "language_info": {
   "codemirror_mode": {
    "name": "ipython",
    "version": 3
   },
   "file_extension": ".py",
   "mimetype": "text/x-python",
   "name": "python",
   "nbconvert_exporter": "python",
   "pygments_lexer": "ipython3",
   "version": "3.12.1"
  }
 },
 "nbformat": 4,
 "nbformat_minor": 2
}
