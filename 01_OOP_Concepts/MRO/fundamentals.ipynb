{
 "cells": [
  {
   "cell_type": "code",
   "execution_count": 1,
   "metadata": {},
   "outputs": [
    {
     "data": {
      "text/plain": [
       "'Kitty Meow...'"
      ]
     },
     "execution_count": 1,
     "metadata": {},
     "output_type": "execute_result"
    }
   ],
   "source": [
    "# Super Class or Base Class or Parents Class\n",
    "# Is-A Relationship \n",
    "# class Subclass(SuperClass):\n",
    "\n",
    "class Animal:  # Parent Class\n",
    "    def __init__(self, name):\n",
    "        self.name = name\n",
    "    def sound(self):\n",
    "        return 'Generic Sound'\n",
    "class Cat(Animal):  # Subclass or child class\n",
    "    def sound(self):\n",
    "        return f'{self.name} Meow...'\n",
    "\n",
    "obj = Cat('Kitty')\n",
    "obj.sound()"
   ]
  },
  {
   "cell_type": "code",
   "execution_count": 2,
   "metadata": {},
   "outputs": [
    {
     "name": "stdout",
     "output_type": "stream",
     "text": [
      "Name: Ravi\n",
      "Employee Id: gla123\n",
      "Salary: 1000\n"
     ]
    }
   ],
   "source": [
    "class Employee:\n",
    "    def __init__(self, name, emp_id, salary):\n",
    "        self.name = name\n",
    "        self.emp_id = emp_id\n",
    "        self.salary = salary\n",
    "\n",
    "    def get_details(self):\n",
    "        print(f'''Name: {self.name}\n",
    "Employee Id: {self.emp_id}\n",
    "Salary: {self.salary}''')\n",
    "        \n",
    "\n"
   ]
  },
  {
   "cell_type": "code",
   "execution_count": 3,
   "metadata": {},
   "outputs": [
    {
     "name": "stdout",
     "output_type": "stream",
     "text": [
      "Name: Ravi\n",
      "Employee Id: gla123\n",
      "Salary: 1000\n"
     ]
    }
   ],
   "source": [
    "# Has-A Relationship \n",
    "# we create attributes as a object of other class\n",
    "\n",
    "class Management:\n",
    "    def __init__(self, emp):\n",
    "        self.emp = emp\n",
    "\n",
    "emp1 = Employee('Ravi', 'gla123', 1000) \n",
    "system = Management(emp1)\n",
    "system.emp.get_details()"
   ]
  }
 ],
 "metadata": {
  "kernelspec": {
   "display_name": "Python 3",
   "language": "python",
   "name": "python3"
  },
  "language_info": {
   "codemirror_mode": {
    "name": "ipython",
    "version": 3
   },
   "file_extension": ".py",
   "mimetype": "text/x-python",
   "name": "python",
   "nbconvert_exporter": "python",
   "pygments_lexer": "ipython3",
   "version": "3.12.1"
  }
 },
 "nbformat": 4,
 "nbformat_minor": 2
}
