{
 "cells": [
  {
   "cell_type": "code",
   "execution_count": 10,
   "metadata": {},
   "outputs": [
    {
     "name": "stdout",
     "output_type": "stream",
     "text": [
      "0\n",
      "EB\n",
      "Method1\n"
     ]
    }
   ],
   "source": [
    "# \n",
    "\n",
    "class Student:\n",
    "    count = 0\n",
    "    __section = 'EB'\n",
    "    def method1(self):\n",
    "        return 'Method1'\n",
    "    def _method2(self):\n",
    "        return 'Method2'\n",
    "\n",
    "# main \n",
    "obj1 = Student()\n",
    "print(obj1.count)\n",
    "print(obj1._Student__section)\n",
    "print(obj1.method1())\n"
   ]
  }
 ],
 "metadata": {
  "kernelspec": {
   "display_name": "Python 3",
   "language": "python",
   "name": "python3"
  },
  "language_info": {
   "codemirror_mode": {
    "name": "ipython",
    "version": 3
   },
   "file_extension": ".py",
   "mimetype": "text/x-python",
   "name": "python",
   "nbconvert_exporter": "python",
   "pygments_lexer": "ipython3",
   "version": "3.12.1"
  }
 },
 "nbformat": 4,
 "nbformat_minor": 2
}
