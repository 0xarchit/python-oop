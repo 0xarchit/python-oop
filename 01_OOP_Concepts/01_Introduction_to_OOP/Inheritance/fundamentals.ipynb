{
 "cells": [
  {
   "cell_type": "code",
   "execution_count": 11,
   "metadata": {},
   "outputs": [
    {
     "data": {
      "text/plain": [
       "['e', 'h', 'l', 'l', 'o']"
      ]
     },
     "execution_count": 11,
     "metadata": {},
     "output_type": "execute_result"
    }
   ],
   "source": [
    "# Inheritance \n",
    "\"\"\n",
    "\n",
    "class Myclass(str):\n",
    "    def upper(self):\n",
    "        return 'nothing work'\n",
    "    def sort(self):\n",
    "        return sorted(self)\n",
    "\n",
    "# main code\n",
    "obj = Myclass('hello')\n",
    "obj2 = Myclass('Hi')\n",
    "\n",
    "obj.sort()"
   ]
  },
  {
   "cell_type": "code",
   "execution_count": 4,
   "metadata": {},
   "outputs": [
    {
     "name": "stdout",
     "output_type": "stream",
     "text": [
      "hello <class 'str'>\n"
     ]
    }
   ],
   "source": [
    "obj = str('hello')\n",
    "print(obj, type(obj))"
   ]
  }
 ],
 "metadata": {
  "kernelspec": {
   "display_name": "Python 3",
   "language": "python",
   "name": "python3"
  },
  "language_info": {
   "codemirror_mode": {
    "name": "ipython",
    "version": 3
   },
   "file_extension": ".py",
   "mimetype": "text/x-python",
   "name": "python",
   "nbconvert_exporter": "python",
   "pygments_lexer": "ipython3",
   "version": "3.12.1"
  }
 },
 "nbformat": 4,
 "nbformat_minor": 2
}
