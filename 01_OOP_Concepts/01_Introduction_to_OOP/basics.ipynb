{
 "cells": [
  {
   "cell_type": "code",
   "execution_count": 4,
   "metadata": {},
   "outputs": [
    {
     "name": "stdout",
     "output_type": "stream",
     "text": [
      "(1,5) <class '__main__.Point'>\n"
     ]
    }
   ],
   "source": [
    "# Start with basics \n",
    "# Operator overloading in Python\n",
    "# Python operators work for built-in classes. But the same operator behaves differently with different types.\n",
    "\n",
    "# For example, the + operator will perform arithmetic addition on two numbers, merge two lists, or concatenate two strings.\n",
    "\n",
    "# This feature in Python that allows the same operator to have different meaning according to the context is called operator overloading.\n",
    "\n",
    "# So what happens when we use them with objects of a user-defined class? Let us consider the following class, which tries to simulate a point in 2-D coordinate system.\n",
    "\n",
    "class Point:\n",
    "    def __init__(self, x = 0, y = 0):\n",
    "        self.x = x\n",
    "        self.y = y\n",
    "    def __str__(self):\n",
    "        return \"({0},{1})\".format(self.x, self.y)\n",
    "    def __add__(self, other):\n",
    "        x = self.x + other.x\n",
    "        y = self.y + other.y\n",
    "        return Point(x, y)\n",
    "\n",
    "p1 = Point(2, 3)\n",
    "p2 = Point(-1, 2)\n",
    "val = p1 + p2\n",
    "\n",
    "print(val, type(val))"
   ]
  },
  {
   "cell_type": "code",
   "execution_count": 2,
   "metadata": {},
   "outputs": [
    {
     "name": "stdout",
     "output_type": "stream",
     "text": [
      "CustomNumber(15)\n",
      "CustomNumber(5)\n",
      "CustomNumber(30)\n",
      "CustomNumber(5.0)\n",
      "False\n"
     ]
    }
   ],
   "source": [
    "class CustomNumber:\n",
    "    def __init__(self, value):\n",
    "        self.value = value\n",
    "\n",
    "    def __add__(self, other):\n",
    "        if isinstance(other, CustomNumber):\n",
    "            return CustomNumber(self.value + other.value)\n",
    "        return CustomNumber(self.value + other)\n",
    "\n",
    "    def __sub__(self, other):\n",
    "        if isinstance(other, CustomNumber):\n",
    "            return CustomNumber(self.value - other.value)\n",
    "        return CustomNumber(self.value - other)\n",
    "\n",
    "    def __mul__(self, other):\n",
    "        if isinstance(other, CustomNumber):\n",
    "            return CustomNumber(self.value * other.value)\n",
    "        return CustomNumber(self.value * other)\n",
    "\n",
    "    def __truediv__(self, other):\n",
    "        if isinstance(other, CustomNumber):\n",
    "            return CustomNumber(self.value / other.value)\n",
    "        return CustomNumber(self.value / other)\n",
    "\n",
    "    def __eq__(self, other):\n",
    "        if isinstance(other, CustomNumber):\n",
    "            return self.value == other.value\n",
    "        return self.value == other\n",
    "\n",
    "    def __str__(self):\n",
    "        return f\"CustomNumber({self.value})\"\n",
    "\n",
    "    def __repr__(self):\n",
    "        return f\"CustomNumber(value={self.value})\"\n",
    "\n",
    "# Example usage\n",
    "num1 = CustomNumber(10)\n",
    "num2 = CustomNumber(5)\n",
    "\n",
    "print(num1 + num2)  # CustomNumber(15)\n",
    "print(num1 - num2)  # CustomNumber(5)\n",
    "print(num1 * 3)     # CustomNumber(30)\n",
    "print(num1 / 2)     # CustomNumber(5.0)\n",
    "print(num1 == num2) # False\n"
   ]
  },
  {
   "cell_type": "code",
   "execution_count": 10,
   "metadata": {},
   "outputs": [
    {
     "name": "stdout",
     "output_type": "stream",
     "text": [
      "5 <class '__main__.custom_number'>\n"
     ]
    }
   ],
   "source": [
    "class custom_number:\n",
    "    def __init__(self, value):\n",
    "        self.value = value\n",
    "    def __add__(self, other):\n",
    "        return custom_number(self.value - other.value)\n",
    "    def __str__(self):\n",
    "        return f\"{self.value}\"\n",
    "\n",
    "\n",
    "# main \n",
    "num1 = custom_number(10)\n",
    "num2 = custom_number(5)\n",
    "val = num1 + num2\n",
    "print(val, type(val))  # 15\n",
    "\n",
    "\n"
   ]
  }
 ],
 "metadata": {
  "kernelspec": {
   "display_name": "Python 3",
   "language": "python",
   "name": "python3"
  },
  "language_info": {
   "codemirror_mode": {
    "name": "ipython",
    "version": 3
   },
   "file_extension": ".py",
   "mimetype": "text/x-python",
   "name": "python",
   "nbconvert_exporter": "python",
   "pygments_lexer": "ipython3",
   "version": "3.12.1"
  }
 },
 "nbformat": 4,
 "nbformat_minor": 2
}
