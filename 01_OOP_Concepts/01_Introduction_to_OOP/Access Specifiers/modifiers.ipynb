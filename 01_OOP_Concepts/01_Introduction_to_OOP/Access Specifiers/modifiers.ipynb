{
 "cells": [
  {
   "cell_type": "code",
   "execution_count": null,
   "metadata": {},
   "outputs": [],
   "source": [
    "# Access Modifiers \n",
    "'''\n",
    "class ClassName:\n",
    "    \"Class Documentation\"\n",
    "    attribute/class varibale/static variable\n",
    "    def __init__(self): # constructor\n",
    "    method1()...\n",
    "    .\n",
    "    .\n",
    "    .\n",
    "\n",
    "'''"
   ]
  },
  {
   "cell_type": "code",
   "execution_count": 19,
   "metadata": {},
   "outputs": [
    {
     "name": "stdout",
     "output_type": "stream",
     "text": [
      "Student count 2\n"
     ]
    }
   ],
   "source": [
    "class student:\n",
    "    section = 'EA'  # class varible \n",
    "    count = 0\n",
    "    def __init__(self, name, rolln):\n",
    "        self.name = name  # instance variable \n",
    "        self.rolln = rolln\n",
    "        student.count += 1\n",
    "    @classmethod\n",
    "    def get_count(cls):\n",
    "        return f'Student count {cls.count}'\n",
    "\n",
    "# main \n",
    "s1 = student('Abhay', 2)\n",
    "s1.count = 30\n",
    "s2 = student('Aman', 23)\n",
    "print(s1.get_count())\n",
    "# print(s2.count)"
   ]
  },
  {
   "cell_type": "code",
   "execution_count": 22,
   "metadata": {},
   "outputs": [
    {
     "name": "stdout",
     "output_type": "stream",
     "text": [
      "method1\n",
      "EA\n"
     ]
    }
   ],
   "source": [
    "class student:\n",
    "    section = 'EA'  # public\n",
    "    def method1(self):\n",
    "        return 'method1'\n",
    "\n",
    "\n",
    "obj = student()\n",
    "print(obj.method1())\n",
    "print(obj.section)"
   ]
  },
  {
   "cell_type": "code",
   "execution_count": 23,
   "metadata": {},
   "outputs": [
    {
     "name": "stdout",
     "output_type": "stream",
     "text": [
      "method1\n",
      "EA\n"
     ]
    }
   ],
   "source": [
    "class student:\n",
    "    _section = 'EA'  # protected\n",
    "    def _method1(self):\n",
    "        return 'method1'\n",
    "\n",
    "\n",
    "obj = student()\n",
    "print(obj._method1())\n",
    "print(obj._section)"
   ]
  },
  {
   "cell_type": "code",
   "execution_count": 24,
   "metadata": {},
   "outputs": [
    {
     "ename": "AttributeError",
     "evalue": "'student' object has no attribute '__method1'",
     "output_type": "error",
     "traceback": [
      "\u001b[0;31m---------------------------------------------------------------------------\u001b[0m",
      "\u001b[0;31mAttributeError\u001b[0m                            Traceback (most recent call last)",
      "Cell \u001b[0;32mIn[24], line 8\u001b[0m\n\u001b[1;32m      4\u001b[0m         \u001b[38;5;28;01mreturn\u001b[39;00m \u001b[38;5;124m'\u001b[39m\u001b[38;5;124mmethod1\u001b[39m\u001b[38;5;124m'\u001b[39m\n\u001b[1;32m      7\u001b[0m obj \u001b[38;5;241m=\u001b[39m student()\n\u001b[0;32m----> 8\u001b[0m \u001b[38;5;28mprint\u001b[39m(\u001b[43mobj\u001b[49m\u001b[38;5;241;43m.\u001b[39;49m\u001b[43m__method1\u001b[49m())\n\u001b[1;32m      9\u001b[0m \u001b[38;5;28mprint\u001b[39m(obj\u001b[38;5;241m.\u001b[39m__section)\n",
      "\u001b[0;31mAttributeError\u001b[0m: 'student' object has no attribute '__method1'"
     ]
    }
   ],
   "source": [
    "class student:\n",
    "    __section = 'EA'  # public\n",
    "    def __method1(self):\n",
    "        return 'method1'\n",
    "    def get_attr(self):\n",
    "        return self.__section\n",
    "\n",
    "\n",
    "obj = student()\n",
    "print(obj.__method1())\n",
    "print(obj.__section)"
   ]
  }
 ],
 "metadata": {
  "kernelspec": {
   "display_name": "Python 3",
   "language": "python",
   "name": "python3"
  },
  "language_info": {
   "codemirror_mode": {
    "name": "ipython",
    "version": 3
   },
   "file_extension": ".py",
   "mimetype": "text/x-python",
   "name": "python",
   "nbconvert_exporter": "python",
   "pygments_lexer": "ipython3",
   "version": "3.12.1"
  }
 },
 "nbformat": 4,
 "nbformat_minor": 2
}
