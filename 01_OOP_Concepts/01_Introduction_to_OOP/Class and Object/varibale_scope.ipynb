{
 "cells": [
  {
   "cell_type": "code",
   "execution_count": 16,
   "metadata": {},
   "outputs": [
    {
     "data": {
      "text/plain": [
       "i am repr"
      ]
     },
     "execution_count": 16,
     "metadata": {},
     "output_type": "execute_result"
    }
   ],
   "source": [
    "class Student:\n",
    "    count = 0  # Class Variable \n",
    "    def __init__(self, name, rolln):\n",
    "        name\n",
    "        self.name = name   # Intance Variable \n",
    "        self.rolln = rolln\n",
    "\n",
    "    def __str__(self):\n",
    "        return '10'\n",
    "    def __repr__(self):\n",
    "        return 'i am repr'\n",
    "\n",
    "# print(Student.count)\n",
    "obj1 = Student('Ravi', 34)\n",
    "obj2 = Student('Monu', 30)\n",
    "obj1\n"
   ]
  },
  {
   "cell_type": "code",
   "execution_count": 23,
   "metadata": {},
   "outputs": [
    {
     "name": "stdout",
     "output_type": "stream",
     "text": [
      "Student count is 2\n"
     ]
    }
   ],
   "source": [
    "class Student:\n",
    "    count = 0\n",
    "    section = 'EB'\n",
    "    def __init__(self, name):\n",
    "        self.name = name\n",
    "        Student.count += 1\n",
    "    @classmethod\n",
    "    def disp_count(cls, r, t, y):\n",
    "        return f'Student count is {cls.count}'\n",
    "    \n",
    "\n",
    "# main code \n",
    "obj1 = Student('Monu')\n",
    "obj2 = Student('Sonu')\n",
    "print(obj2.disp_count(23, 4, 6))\n"
   ]
  }
 ],
 "metadata": {
  "kernelspec": {
   "display_name": "Python 3",
   "language": "python",
   "name": "python3"
  },
  "language_info": {
   "codemirror_mode": {
    "name": "ipython",
    "version": 3
   },
   "file_extension": ".py",
   "mimetype": "text/x-python",
   "name": "python",
   "nbconvert_exporter": "python",
   "pygments_lexer": "ipython3",
   "version": "3.12.1"
  }
 },
 "nbformat": 4,
 "nbformat_minor": 2
}
