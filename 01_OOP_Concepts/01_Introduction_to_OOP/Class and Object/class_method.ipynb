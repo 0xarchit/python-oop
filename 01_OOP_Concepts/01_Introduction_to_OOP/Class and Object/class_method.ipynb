{
 "cells": [
  {
   "cell_type": "code",
   "execution_count": 9,
   "metadata": {},
   "outputs": [
    {
     "name": "stdout",
     "output_type": "stream",
     "text": [
      "Sparrow flies with 2 wings\n",
      "Pigen flies with 2 wings\n",
      "Pigen flies with 3 wings\n"
     ]
    }
   ],
   "source": [
    "class Bird:\n",
    "    #Define the class var here\n",
    "    wings = 2\n",
    "    #Define the class method\n",
    "    @classmethod\n",
    "    def fly(cls, name):\n",
    "        print(\"{} flies with {} wings\" . format(name, cls.wings))\n",
    "    def fly2(self, name):\n",
    "        print(\"{} flies with {} wings\" . format(name, self.wings))\n",
    "#Call\n",
    "Bird.fly(\"Sparrow\")\n",
    "# Bird.fly(\"Pigeon\")\n",
    "\n",
    "obj = Bird()\n",
    "obj.wings = 3\n",
    "obj.fly('Pigen')\n",
    "obj.fly2('Helicopter')"
   ]
  }
 ],
 "metadata": {
  "kernelspec": {
   "display_name": "Python 3",
   "language": "python",
   "name": "python3"
  },
  "language_info": {
   "codemirror_mode": {
    "name": "ipython",
    "version": 3
   },
   "file_extension": ".py",
   "mimetype": "text/x-python",
   "name": "python",
   "nbconvert_exporter": "python",
   "pygments_lexer": "ipython3",
   "version": "3.12.1"
  }
 },
 "nbformat": 4,
 "nbformat_minor": 2
}
