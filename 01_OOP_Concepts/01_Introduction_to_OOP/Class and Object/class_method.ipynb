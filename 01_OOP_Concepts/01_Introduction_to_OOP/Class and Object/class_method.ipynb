{
 "cells": [
  {
   "cell_type": "code",
   "execution_count": 11,
   "metadata": {},
   "outputs": [
    {
     "ename": "TypeError",
     "evalue": "Bird.fly() missing 1 required positional argument: 'name'",
     "output_type": "error",
     "traceback": [
      "\u001b[0;31m---------------------------------------------------------------------------\u001b[0m",
      "\u001b[0;31mTypeError\u001b[0m                                 Traceback (most recent call last)",
      "Cell \u001b[0;32mIn[11], line 11\u001b[0m\n\u001b[1;32m      9\u001b[0m         \u001b[38;5;28mprint\u001b[39m(\u001b[38;5;124m\"\u001b[39m\u001b[38;5;132;01m{}\u001b[39;00m\u001b[38;5;124m flies with \u001b[39m\u001b[38;5;132;01m{}\u001b[39;00m\u001b[38;5;124m wings\u001b[39m\u001b[38;5;124m\"\u001b[39m \u001b[38;5;241m.\u001b[39m \u001b[38;5;28mformat\u001b[39m(name, \u001b[38;5;28mself\u001b[39m\u001b[38;5;241m.\u001b[39mwings))\n\u001b[1;32m     10\u001b[0m \u001b[38;5;66;03m#Call\u001b[39;00m\n\u001b[0;32m---> 11\u001b[0m \u001b[43mBird\u001b[49m\u001b[38;5;241;43m.\u001b[39;49m\u001b[43mfly\u001b[49m\u001b[43m(\u001b[49m\u001b[38;5;124;43m\"\u001b[39;49m\u001b[38;5;124;43mSparrow\u001b[39;49m\u001b[38;5;124;43m\"\u001b[39;49m\u001b[43m)\u001b[49m\n\u001b[1;32m     12\u001b[0m \u001b[38;5;66;03m# Bird.fly(\"Pigeon\")\u001b[39;00m\n\u001b[1;32m     14\u001b[0m obj \u001b[38;5;241m=\u001b[39m Bird()\n",
      "\u001b[0;31mTypeError\u001b[0m: Bird.fly() missing 1 required positional argument: 'name'"
     ]
    }
   ],
   "source": [
    "class Bird:\n",
    "    #Define the class var here\n",
    "    wings = 2\n",
    "    #Define the class method\n",
    "    @classmethod\n",
    "    def fly(cls, name):\n",
    "        print(\"{} flies with {} wings\" . format(name, cls.wings))\n",
    "    def fly2(self, name):\n",
    "        print(\"{} flies with {} wings\" . format(name, self.wings))\n",
    "#Call\n",
    "Bird.fly(\"Sparrow\")\n",
    "# Bird.fly(\"Pigeon\")\n",
    "\n",
    "obj = Bird()\n",
    "obj.wings = 3\n",
    "obj.fly('Pigen')\n",
    "obj.fly2('Helicopter')"
   ]
  }
 ],
 "metadata": {
  "kernelspec": {
   "display_name": "Python 3",
   "language": "python",
   "name": "python3"
  },
  "language_info": {
   "codemirror_mode": {
    "name": "ipython",
    "version": 3
   },
   "file_extension": ".py",
   "mimetype": "text/x-python",
   "name": "python",
   "nbconvert_exporter": "python",
   "pygments_lexer": "ipython3",
   "version": "3.12.1"
  }
 },
 "nbformat": 4,
 "nbformat_minor": 2
}
