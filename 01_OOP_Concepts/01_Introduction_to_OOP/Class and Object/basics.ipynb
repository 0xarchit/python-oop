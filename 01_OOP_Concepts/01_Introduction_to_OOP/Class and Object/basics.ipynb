{
 "cells": [
  {
   "cell_type": "code",
   "execution_count": 2,
   "metadata": {},
   "outputs": [
    {
     "name": "stdout",
     "output_type": "stream",
     "text": [
      "<__main__.Sample object at 0x11b0b18e0>\n",
      "<class '__main__.Sample'>\n"
     ]
    }
   ],
   "source": [
    "# Class: Blueprint of object , Class is a model or plan to create the objects\n",
    "# Object: Instance of class  \n",
    "\n",
    "\n",
    "# class keyword: use to initialize the class\n",
    "'''\n",
    "class Class_Name:\n",
    "    # classs members (Properties and Behavior)\n",
    "    # body\n",
    "'''\n",
    "class Sample:\n",
    "    pass\n",
    "\n",
    "\n",
    "obj = Sample()\n",
    "print(obj, type(obj), sep='\\n')"
   ]
  },
  {
   "cell_type": "code",
   "execution_count": null,
   "metadata": {},
   "outputs": [],
   "source": [
    "# ‘Self’ is the default variable that contains the memory address of the instance of the current class\n"
   ]
  }
 ],
 "metadata": {
  "kernelspec": {
   "display_name": "Python 3",
   "language": "python",
   "name": "python3"
  },
  "language_info": {
   "codemirror_mode": {
    "name": "ipython",
    "version": 3
   },
   "file_extension": ".py",
   "mimetype": "text/x-python",
   "name": "python",
   "nbconvert_exporter": "python",
   "pygments_lexer": "ipython3",
   "version": "3.12.1"
  }
 },
 "nbformat": 4,
 "nbformat_minor": 2
}
