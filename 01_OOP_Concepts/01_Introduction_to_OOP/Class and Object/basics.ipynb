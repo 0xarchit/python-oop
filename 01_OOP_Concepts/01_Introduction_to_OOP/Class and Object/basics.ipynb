{
 "cells": [
  {
   "cell_type": "code",
   "execution_count": 2,
   "metadata": {},
   "outputs": [
    {
     "name": "stdout",
     "output_type": "stream",
     "text": [
      "<__main__.Sample object at 0x11b0b18e0>\n",
      "<class '__main__.Sample'>\n"
     ]
    }
   ],
   "source": [
    "# Class: Blueprint of object , Class is a model or plan to create the objects\n",
    "# Object: Instance of class  \n",
    "\n",
    "\n",
    "# class keyword: use to initialize the class\n",
    "'''\n",
    "class Class_Name:\n",
    "    # classs members (Properties and Behavior)\n",
    "    # body\n",
    "'''\n",
    "class Sample:\n",
    "    pass\n",
    "\n",
    "\n",
    "obj = Sample()\n",
    "print(obj, type(obj), sep='\\n')"
   ]
  },
  {
   "cell_type": "code",
   "execution_count": 7,
   "metadata": {},
   "outputs": [
    {
     "name": "stdout",
     "output_type": "stream",
     "text": [
      "True\n"
     ]
    }
   ],
   "source": [
    "a = 10\n",
    "b = 20\n",
    "c = a.__lt__(b)\n",
    "# print(a, type(a))\n",
    "# print(b, type(b))\n",
    "print(c)"
   ]
  },
  {
   "cell_type": "code",
   "execution_count": 19,
   "metadata": {},
   "outputs": [
    {
     "name": "stdout",
     "output_type": "stream",
     "text": [
      "[]\n"
     ]
    }
   ],
   "source": [
    "d = list()\n",
    "print(d)"
   ]
  },
  {
   "cell_type": "code",
   "execution_count": 38,
   "metadata": {},
   "outputs": [
    {
     "name": "stdout",
     "output_type": "stream",
     "text": [
      "10\n",
      "10\n",
      "Name: Rakesh\n",
      "Age32\n"
     ]
    }
   ],
   "source": [
    "class Sample:\n",
    "    def __init__(self):\n",
    "        self.a = 10\n",
    "    def disp(self):\n",
    "        return self.a\n",
    "    def inc(self):\n",
    "        self.a += 1 \n",
    "    def set_info(self, name, age):\n",
    "        self.name = name\n",
    "        self.age = age\n",
    "    def get_info(self):\n",
    "        return f'Name: {self.name}\\nAge{self.age}'\n",
    "# main code\n",
    "obj1 = Sample()\n",
    "obj2 = Sample()\n",
    "print(obj1.disp())\n",
    "print(obj2.disp())\n",
    "\n",
    "obj1.set_info('Rahul', 23)\n",
    "obj2.set_info('Rakesh', 32)\n",
    "\n",
    "print(obj2.get_info())\n",
    "\n"
   ]
  },
  {
   "cell_type": "code",
   "execution_count": null,
   "metadata": {},
   "outputs": [],
   "source": []
  },
  {
   "cell_type": "code",
   "execution_count": null,
   "metadata": {},
   "outputs": [],
   "source": []
  },
  {
   "cell_type": "code",
   "execution_count": 13,
   "metadata": {},
   "outputs": [
    {
     "name": "stdout",
     "output_type": "stream",
     "text": [
      "[10, 100]\n",
      "<class 'list'>\n"
     ]
    }
   ],
   "source": [
    "ls = list()\n",
    "ls.append(10)\n",
    "ls.append(100)\n",
    "print(ls, type(ls), sep='\\n')"
   ]
  },
  {
   "cell_type": "code",
   "execution_count": null,
   "metadata": {},
   "outputs": [],
   "source": [
    "# ‘Self’ is the default variable that contains the memory address of the instance of the current class\n"
   ]
  },
  {
   "cell_type": "code",
   "execution_count": 16,
   "metadata": {},
   "outputs": [
    {
     "name": "stdout",
     "output_type": "stream",
     "text": [
      "-22\n"
     ]
    }
   ],
   "source": [
    "class calc:\n",
    "    def add(a, b):\n",
    "        return a + b\n",
    "    def sub(a, b):\n",
    "        return a - b\n",
    "\n",
    "\n",
    "\n",
    "# main code \n",
    "num1 = 23\n",
    "num2 = 45\n",
    "obj = calc()\n",
    "re = obj.sub(num1, num2)\n",
    "print(re)"
   ]
  }
 ],
 "metadata": {
  "kernelspec": {
   "display_name": "Python 3",
   "language": "python",
   "name": "python3"
  },
  "language_info": {
   "codemirror_mode": {
    "name": "ipython",
    "version": 3
   },
   "file_extension": ".py",
   "mimetype": "text/x-python",
   "name": "python",
   "nbconvert_exporter": "python",
   "pygments_lexer": "ipython3",
   "version": "3.12.1"
  }
 },
 "nbformat": 4,
 "nbformat_minor": 2
}
