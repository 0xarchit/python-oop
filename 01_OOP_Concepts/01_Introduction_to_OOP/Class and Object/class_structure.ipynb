{
 "cells": [
  {
   "cell_type": "code",
   "execution_count": null,
   "metadata": {},
   "outputs": [],
   "source": [
    "# How to initialize a class \n",
    "\n",
    "'''\n",
    "Syntax:\n",
    "class ClassName:\n",
    "    \"class documentation\"\n",
    "    class variables/ Atributes/ static variable \n",
    "    def __init__(self): constructor\n",
    "    method1()...\n",
    "    method2()...\n",
    "    .\n",
    "    .\n",
    "    .\n",
    "'''\n",
    "\n",
    "'''Syntax for Instanciation\n",
    "\n",
    "obj = Classname()\n",
    "obj.attr\n",
    "'''"
   ]
  },
  {
   "cell_type": "code",
   "execution_count": 19,
   "metadata": {},
   "outputs": [
    {
     "name": "stdout",
     "output_type": "stream",
     "text": [
      "0\n"
     ]
    }
   ],
   "source": [
    "class student:\n",
    "    count = 0\n",
    "\n",
    "# student.count = 23\n",
    "\n",
    "obj1 = student()\n",
    "obj2 = student()\n",
    "obj1.count = 20\n",
    "print(student.count)\n",
    "\n"
   ]
  },
  {
   "cell_type": "code",
   "execution_count": 18,
   "metadata": {},
   "outputs": [
    {
     "name": "stdout",
     "output_type": "stream",
     "text": [
      "student count 2\n"
     ]
    }
   ],
   "source": [
    "class student:\n",
    "    count = 0\n",
    "    def __init__(self, name, rolln):\n",
    "        self.name = name\n",
    "        self.rolln = rolln\n",
    "        student.count += 1\n",
    "    @classmethod\n",
    "    def get_count(cls):\n",
    "        return f'student count {cls.count}'\n",
    "        \n",
    "obj1 = student('ravi', 23)\n",
    "obj2 = student('sahil', 10)\n",
    "\n",
    "print(obj1.get_count())\n"
   ]
  }
 ],
 "metadata": {
  "kernelspec": {
   "display_name": "Python 3",
   "language": "python",
   "name": "python3"
  },
  "language_info": {
   "codemirror_mode": {
    "name": "ipython",
    "version": 3
   },
   "file_extension": ".py",
   "mimetype": "text/x-python",
   "name": "python",
   "nbconvert_exporter": "python",
   "pygments_lexer": "ipython3",
   "version": "3.12.1"
  }
 },
 "nbformat": 4,
 "nbformat_minor": 2
}
