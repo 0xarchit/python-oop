{
 "cells": [
  {
   "cell_type": "code",
   "execution_count": null,
   "metadata": {},
   "outputs": [],
   "source": [
    "# How to initialize a class \n",
    "\n",
    "'''\n",
    "Syntax:\n",
    "class ClassName:\n",
    "    \"class documentation\"\n",
    "    class variables/ Atributes/ static variable \n",
    "    def __init__(self): constructor\n",
    "    method1()...\n",
    "    method2()...\n",
    "    .\n",
    "    .\n",
    "    .\n",
    "'''\n",
    "\n",
    "'''Syntax for Instanciation\n",
    "\n",
    "obj = Classname()\n",
    "obj.attr\n",
    "'''"
   ]
  },
  {
   "cell_type": "code",
   "execution_count": 19,
   "metadata": {},
   "outputs": [
    {
     "name": "stdout",
     "output_type": "stream",
     "text": [
      "0\n"
     ]
    }
   ],
   "source": [
    "class student:\n",
    "    count = 0\n",
    "\n",
    "# student.count = 23\n",
    "\n",
    "obj1 = student()\n",
    "obj2 = student()\n",
    "obj1.count = 20\n",
    "print(student.count)\n",
    "\n"
   ]
  },
  {
   "cell_type": "code",
   "execution_count": 18,
   "metadata": {},
   "outputs": [
    {
     "name": "stdout",
     "output_type": "stream",
     "text": [
      "student count 2\n"
     ]
    }
   ],
   "source": [
    "class student:\n",
    "    count = 0\n",
    "    def __init__(self, name, rolln):\n",
    "        self.name = name\n",
    "        self.rolln = rolln\n",
    "        student.count += 1\n",
    "    @classmethod\n",
    "    def get_count(cls):\n",
    "        return f'student count {cls.count}'\n",
    "        \n",
    "obj1 = student('ravi', 23)\n",
    "obj2 = student('sahil', 10)\n",
    "\n",
    "print(obj1.get_count())\n"
   ]
  },
  {
   "cell_type": "code",
   "execution_count": null,
   "metadata": {},
   "outputs": [],
   "source": [
    "'''\n",
    "class ClassName:\n",
    "    class varibale/static variable/attributes\n",
    "\n",
    "    def __init__(self): # constructor Method1\n",
    "    Method2 \n",
    "    Method3\n",
    "    .\n",
    "    .\n",
    "    .\n",
    "'''"
   ]
  },
  {
   "cell_type": "code",
   "execution_count": 29,
   "metadata": {},
   "outputs": [
    {
     "name": "stdout",
     "output_type": "stream",
     "text": [
      "Student count 3\n"
     ]
    }
   ],
   "source": [
    "# Example 1\n",
    "class Student:\n",
    "    count = 0\n",
    "    section = 'EA'\n",
    "    def __init__(self, name, rolln):\n",
    "        self.name = name\n",
    "        self.rolln = rolln\n",
    "        Student.count += 1\n",
    "    def get_details(self):\n",
    "        return f'Name: {self.name}\\nRoll Number: {self.rolln}'\n",
    "    \n",
    "    @classmethod\n",
    "    def get_count(cls):\n",
    "        return f'Student count {cls.count}'\n",
    "\n",
    "\n",
    "# main code\n",
    "obj1 = Student(\"Ravi\", 23)\n",
    "obj2 = Student(\"Sonu\", 10)\n",
    "obj3 = Student(\"Monu\", 10)\n",
    "# print(obj1.get_details())\n",
    "# print(obj2.get_details())\n",
    "print(obj1.get_count())\n",
    "\n"
   ]
  },
  {
   "cell_type": "code",
   "execution_count": 31,
   "metadata": {},
   "outputs": [
    {
     "name": "stdout",
     "output_type": "stream",
     "text": [
      "Name: Bob, Age: 25\n",
      "Bob\n",
      "0\n"
     ]
    }
   ],
   "source": [
    "class ProtectedExample:\n",
    "    _count = 0\n",
    "    def __init__(self, name, age):\n",
    "        self._name = name  # Protected attribute\n",
    "        self._age = age    # Protected attribute\n",
    "    \n",
    "    def _display_info(self):  # Protected method\n",
    "        print(f\"Name: {self._name}, Age: {self._age}\")\n",
    "\n",
    "class DerivedExample(ProtectedExample):\n",
    "    def show_info(self):\n",
    "        self._display_info()  # Accessing protected method\n",
    "\n",
    "# Usage\n",
    "obj = DerivedExample(\"Bob\", 25)\n",
    "obj.show_info()  # Access via subclass method\n",
    "print(obj._name)  # Direct access to protected attribute (not recommended)\n",
    "print(obj._count)\n",
    "\n"
   ]
  },
  {
   "cell_type": "code",
   "execution_count": 32,
   "metadata": {},
   "outputs": [
    {
     "name": "stdout",
     "output_type": "stream",
     "text": [
      "Salary: 50000\n",
      "50000\n"
     ]
    }
   ],
   "source": [
    "class PrivateExample:\n",
    "    def __init__(self, salary):\n",
    "        self.__salary = salary  # Private attribute\n",
    "    \n",
    "    def __display_salary(self):  # Private method\n",
    "        print(f\"Salary: {self.__salary}\")\n",
    "    \n",
    "    def show_salary(self):  # Public method to access private attribute\n",
    "        self.__display_salary()\n",
    "\n",
    "# Usage\n",
    "obj = PrivateExample(50000)\n",
    "obj.show_salary()  # Access private method via public method\n",
    "\n",
    "# Direct access (will throw AttributeError)\n",
    "print(obj.__salary)  \n",
    "# obj.__display_salary()\n",
    "\n",
    "# Access private members using name mangling\n",
    "print(obj._PrivateExample__salary)\n"
   ]
  }
 ],
 "metadata": {
  "kernelspec": {
   "display_name": "Python 3",
   "language": "python",
   "name": "python3"
  },
  "language_info": {
   "codemirror_mode": {
    "name": "ipython",
    "version": 3
   },
   "file_extension": ".py",
   "mimetype": "text/x-python",
   "name": "python",
   "nbconvert_exporter": "python",
   "pygments_lexer": "ipython3",
   "version": "3.12.1"
  }
 },
 "nbformat": 4,
 "nbformat_minor": 2
}
