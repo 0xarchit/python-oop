{
 "cells": [
  {
   "cell_type": "code",
   "execution_count": 3,
   "metadata": {},
   "outputs": [
    {
     "name": "stdout",
     "output_type": "stream",
     "text": [
      "['12', 34, 43, '34', 4, 67]\n"
     ]
    }
   ],
   "source": [
    "# Operator Overloading\n",
    "\n",
    "'+'\n",
    "a = [\"12\", 34, 43]\n",
    "b = [\"34\", 4, 67]\n",
    "c = a + b\n",
    "print(c)"
   ]
  },
  {
   "cell_type": "code",
   "execution_count": 6,
   "metadata": {},
   "outputs": [
    {
     "name": "stdout",
     "output_type": "stream",
     "text": [
      "this is + operation\n"
     ]
    }
   ],
   "source": [
    "class Sample1:\n",
    "    def __add__(self, other):\n",
    "        return 'this is + operation'\n",
    "\n",
    "# main \n",
    "obj1 = Sample1()\n",
    "obj2 = Sample1()\n",
    "c = obj1\n",
    "print(c)"
   ]
  },
  {
   "cell_type": "code",
   "execution_count": 8,
   "metadata": {},
   "outputs": [
    {
     "name": "stdout",
     "output_type": "stream",
     "text": [
      "57 <class 'int'>\n"
     ]
    }
   ],
   "source": [
    "a = 23\n",
    "b = 34\n",
    "c = a + b\n",
    "print(c, type(c))"
   ]
  },
  {
   "cell_type": "code",
   "execution_count": 31,
   "metadata": {},
   "outputs": [
    {
     "name": "stdout",
     "output_type": "stream",
     "text": [
      "32 <class 'int'>\n"
     ]
    }
   ],
   "source": [
    "class CustomNumber:\n",
    "    def __init__(self, value):\n",
    "        self.value = value\n",
    "    def __add__(self, other):\n",
    "        if isinstance(other, CustomNumber):\n",
    "            return CustomNumber(self.value + other.value)\n",
    "        else:\n",
    "            return CustomNumber(self.value + other)\n",
    "    def __str__(self):\n",
    "        return f'{self.value}'\n",
    "# main\n",
    "a = CustomNumber(12)\n",
    "b = CustomNumber(2)\n",
    "c =  a + 34\n",
    "print(c, type(c))"
   ]
  },
  {
   "cell_type": "code",
   "execution_count": 21,
   "metadata": {},
   "outputs": [
    {
     "name": "stdout",
     "output_type": "stream",
     "text": [
      "True\n"
     ]
    }
   ],
   "source": [
    "a = 2 + 3j\n",
    "\n",
    "print(isinstance(a, complex) )"
   ]
  }
 ],
 "metadata": {
  "kernelspec": {
   "display_name": "Python 3",
   "language": "python",
   "name": "python3"
  },
  "language_info": {
   "codemirror_mode": {
    "name": "ipython",
    "version": 3
   },
   "file_extension": ".py",
   "mimetype": "text/x-python",
   "name": "python",
   "nbconvert_exporter": "python",
   "pygments_lexer": "ipython3",
   "version": "3.12.1"
  }
 },
 "nbformat": 4,
 "nbformat_minor": 2
}
