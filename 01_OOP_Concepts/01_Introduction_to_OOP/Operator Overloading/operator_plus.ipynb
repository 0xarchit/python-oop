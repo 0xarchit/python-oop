{
 "cells": [
  {
   "cell_type": "code",
   "execution_count": 44,
   "metadata": {},
   "outputs": [
    {
     "name": "stdout",
     "output_type": "stream",
     "text": [
      "30 <class 'int'>\n"
     ]
    }
   ],
   "source": [
    "# Operator Overloading\n",
    "a = int(10)\n",
    "b = int(20)\n",
    "c = a + b\n",
    "print(c, type(c))\n"
   ]
  },
  {
   "cell_type": "code",
   "execution_count": 53,
   "metadata": {},
   "outputs": [
    {
     "name": "stdout",
     "output_type": "stream",
     "text": [
      "28 <class '__main__.custom_number'>\n"
     ]
    }
   ],
   "source": [
    "class custom_number:\n",
    "    def __init__(self, value=0):\n",
    "        self.value = value\n",
    "\n",
    "    def __str__(self):\n",
    "        return f'{self.value}'\n",
    "    \n",
    "    def __add__(self, other):\n",
    "        if isinstance(other, custom_number):\n",
    "            return custom_number(self.value + other.value)\n",
    "        else:\n",
    "            return custom_number(self.value + other)\n",
    "    \n",
    "    def method(self):\n",
    "        print(f'value is {self.value}')\n",
    "\n",
    "\n",
    "a = custom_number(5)\n",
    "b = custom_number(10)\n",
    "c = a + b\n",
    "print(c, type(c))"
   ]
  },
  {
   "cell_type": "code",
   "execution_count": 51,
   "metadata": {},
   "outputs": [
    {
     "name": "stdout",
     "output_type": "stream",
     "text": [
      "^7, 12^ <class '__main__.Point'>\n"
     ]
    }
   ],
   "source": [
    "# 2 D Plan \n",
    "\n",
    "class Point:\n",
    "    def __init__(self, x, y):\n",
    "        self.x = x\n",
    "        self.y = y\n",
    "    def __add__(self, other):\n",
    "        return Point(self.x + other.x, self.y + other.y)\n",
    " \n",
    "    def __str__(self):\n",
    "        return f'({self.x}, {self.y})'\n",
    "\n",
    "# main\n",
    "p1 = Point(4, 5)\n",
    "p2 = Point(3, 7)\n",
    "p3 = p1 + p2\n",
    "print(p3, type(p3))\n"
   ]
  }
 ],
 "metadata": {
  "kernelspec": {
   "display_name": "Python 3",
   "language": "python",
   "name": "python3"
  },
  "language_info": {
   "codemirror_mode": {
    "name": "ipython",
    "version": 3
   },
   "file_extension": ".py",
   "mimetype": "text/x-python",
   "name": "python",
   "nbconvert_exporter": "python",
   "pygments_lexer": "ipython3",
   "version": "3.12.1"
  }
 },
 "nbformat": 4,
 "nbformat_minor": 2
}
