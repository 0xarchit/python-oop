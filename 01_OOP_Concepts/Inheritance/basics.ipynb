{
 "cells": [
  {
   "cell_type": "code",
   "execution_count": 9,
   "metadata": {},
   "outputs": [
    {
     "name": "stdout",
     "output_type": "stream",
     "text": [
      "Hi\n",
      "Hi\n"
     ]
    }
   ],
   "source": [
    "# Inheritance\n",
    "\n",
    "class Myclass(str):\n",
    "    def upper(self):\n",
    "        return 'Hi'\n",
    "\n",
    "\n",
    "# main \n",
    "obj = Myclass('hello')\n",
    "obj2 = Myclass('xyz')\n",
    "print(obj2.upper())\n",
    "print(obj.upper())"
   ]
  }
 ],
 "metadata": {
  "kernelspec": {
   "display_name": "Python 3",
   "language": "python",
   "name": "python3"
  },
  "language_info": {
   "codemirror_mode": {
    "name": "ipython",
    "version": 3
   },
   "file_extension": ".py",
   "mimetype": "text/x-python",
   "name": "python",
   "nbconvert_exporter": "python",
   "pygments_lexer": "ipython3",
   "version": "3.12.1"
  }
 },
 "nbformat": 4,
 "nbformat_minor": 2
}
