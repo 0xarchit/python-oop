{
 "cells": [
  {
   "cell_type": "code",
   "execution_count": null,
   "metadata": {},
   "outputs": [],
   "source": [
    "# Abstraction in Python \n",
    "'''\n",
    "its the way to hide the unneccessary information from the user \n",
    "\n",
    "1. Abstract class\n",
    "2. Abstract Methods\n",
    "'''"
   ]
  },
  {
   "cell_type": "code",
   "execution_count": 14,
   "metadata": {},
   "outputs": [
    {
     "name": "stdout",
     "output_type": "stream",
     "text": [
      "Hello Test\n"
     ]
    }
   ],
   "source": [
    "from abc import ABC, abstractmethod\n",
    "class Sample(ABC):\n",
    "    @abstractmethod\n",
    "    def disp(self):\n",
    "        print('Disp from Sample Class')\n",
    "    @abstractmethod\n",
    "    def display(self):\n",
    "        print('Display from Sample Class')\n",
    "\n",
    "class Test(Sample):\n",
    "    def display(self):\n",
    "        print('Hello Test')\n",
    "    def disp(self):\n",
    "        print('Hello Test')\n",
    "\n",
    "obj = Test()\n",
    "obj.disp()\n"
   ]
  },
  {
   "cell_type": "code",
   "execution_count": 15,
   "metadata": {},
   "outputs": [],
   "source": [
    "\n",
    "\n"
   ]
  },
  {
   "cell_type": "code",
   "execution_count": 18,
   "metadata": {},
   "outputs": [
    {
     "name": "stdout",
     "output_type": "stream",
     "text": [
      "Bark..\n",
      "Meow..\n"
     ]
    }
   ],
   "source": [
    "from abc import ABC, abstractmethod\n",
    "class Animal(ABC):\n",
    "    @abstractmethod\n",
    "    def sound(self):\n",
    "        pass\n",
    "    def body(self):\n",
    "        pass\n",
    "class Dog(Animal):\n",
    "    def sound(self):\n",
    "        print('Bark..')\n",
    "class Cat(Animal):\n",
    "    def sound(self):\n",
    "        print('Meow..')\n",
    "\n",
    "obj1 = Dog()\n",
    "obj2 = Cat()\n",
    "obj1.sound()\n",
    "obj2.sound()"
   ]
  },
  {
   "cell_type": "code",
   "execution_count": 27,
   "metadata": {},
   "outputs": [],
   "source": []
  },
  {
   "cell_type": "code",
   "execution_count": 38,
   "metadata": {},
   "outputs": [
    {
     "name": "stdout",
     "output_type": "stream",
     "text": [
      "400\n",
      "125.60000000000001\n"
     ]
    }
   ],
   "source": [
    "# from abc import ABC, abstractmethod\n",
    "class shape(ABC):\n",
    "    @abstractmethod\n",
    "    def area(self):\n",
    "        pass\n",
    "    @abstractmethod\n",
    "    def perimeter(self):\n",
    "        print('Some important rules')\n",
    "        pass\n",
    "\n",
    "\n",
    "class Circle(shape):\n",
    "    def __init__(self, r):\n",
    "        self.r = r\n",
    "    def area(self):\n",
    "        return self.r * self.r\n",
    "    def perimeter(self):\n",
    "        super().perimeter()\n",
    "        return 2 * 3.14 * self.r\n",
    "       \n",
    "obj = Circle(20)\n",
    "print(obj.area())\n",
    "print(obj.perimeter())"
   ]
  },
  {
   "cell_type": "code",
   "execution_count": 1,
   "metadata": {},
   "outputs": [
    {
     "name": "stdout",
     "output_type": "stream",
     "text": [
      " Kitty sounds Meow...\n"
     ]
    }
   ],
   "source": [
    "# Super Class or Base Class or Parent Class\n",
    "# Is-A relationship \n",
    "# Cat is Animal \n",
    "class Animal:\n",
    "    def __init__(self, name):\n",
    "        self.name = name\n",
    "    def sound(self):\n",
    "        return 'Generic sound'\n",
    "\n",
    "# subclass or child class\n",
    "class Cat(Animal):\n",
    "    def sound(self):\n",
    "        return f' {self.name} sounds Meow...'\n",
    "\n",
    "obj = Cat('Kitty')\n",
    "print(obj.sound())"
   ]
  },
  {
   "cell_type": "code",
   "execution_count": 2,
   "metadata": {},
   "outputs": [
    {
     "name": "stdout",
     "output_type": "stream",
     "text": [
      "\n",
      "Name: Ravi\n",
      "Employee Id: gla123\n",
      "Salary: 1000\n",
      "\n"
     ]
    }
   ],
   "source": [
    "# Component Class\n",
    "class Employee:\n",
    "    def __init__(self, name, emp_id, salary):\n",
    "        self.name = name\n",
    "        self.emp_id = emp_id\n",
    "        self.salary = salary\n",
    "\n",
    "    def disp_info(self):\n",
    "        print(f'''\n",
    "Name: {self.name}\n",
    "Employee Id: {self.emp_id}\n",
    "Salary: {self.salary}\n",
    "''')\n",
    "        \n",
    "\n"
   ]
  },
  {
   "cell_type": "code",
   "execution_count": 3,
   "metadata": {},
   "outputs": [
    {
     "name": "stdout",
     "output_type": "stream",
     "text": [
      "\n",
      "Name: Ravi\n",
      "Employee Id: gla123\n",
      "Salary: 1000\n",
      "\n"
     ]
    }
   ],
   "source": [
    "# Container Class \n",
    "class Management:\n",
    "    def __init__(self, emp):\n",
    "        self.emp = emp   # Has-A Relationship \n",
    "\n",
    "emp1 = Employee('Ravi', 'gla123', 1000)\n",
    "system = Management(emp1)\n",
    "system.emp.disp_info()\n",
    "\n",
    "\n",
    "\n"
   ]
  },
  {
   "cell_type": "code",
   "execution_count": null,
   "metadata": {},
   "outputs": [],
   "source": [
    "# Container Class \n",
    "class Management:\n",
    "    def __init__(self):\n",
    "        self.emp = {} \n",
    "    def add_emp(self, emp):\n",
    "        self.emp[emp.emp_id] = emp   # Has-A Relationship with type Composition \n",
    "\n",
    "emp1 = Employee('Ravi', 'gla123', 1000)\n",
    "system = Management(emp1)\n",
    "system.emp.disp_info()"
   ]
  }
 ],
 "metadata": {
  "kernelspec": {
   "display_name": "Python 3",
   "language": "python",
   "name": "python3"
  },
  "language_info": {
   "codemirror_mode": {
    "name": "ipython",
    "version": 3
   },
   "file_extension": ".py",
   "mimetype": "text/x-python",
   "name": "python",
   "nbconvert_exporter": "python",
   "pygments_lexer": "ipython3",
   "version": "3.12.1"
  }
 },
 "nbformat": 4,
 "nbformat_minor": 2
}
