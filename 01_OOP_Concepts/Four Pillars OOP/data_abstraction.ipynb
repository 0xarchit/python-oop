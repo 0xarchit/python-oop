{
 "cells": [
  {
   "cell_type": "code",
   "execution_count": 2,
   "metadata": {},
   "outputs": [
    {
     "name": "stdout",
     "output_type": "stream",
     "text": [
      "John earns 50000\n",
      "John earns 60000\n",
      "Jane earns 60000\n",
      "60000\n"
     ]
    }
   ],
   "source": [
    "# Data Abstraction in Python 3\n",
    "# This is a simple example of data abstraction in Python 3\n",
    "\n",
    "class Employee:\n",
    "    def __init__(self, name, salary):\n",
    "        self.name = name\n",
    "        self.salary = salary\n",
    "\n",
    "    def get_salary(self):\n",
    "        return self.salary\n",
    "\n",
    "    def get_name(self):\n",
    "        return self.name\n",
    "\n",
    "    def set_salary(self, salary):\n",
    "        self.salary = salary\n",
    "\n",
    "    def set_name(self, name):\n",
    "        self.name = name\n",
    "\n",
    "    def __str__(self):\n",
    "        return f'{self.name} earns {self.salary}'\n",
    "\n",
    "# Create an instance of the Employee class\n",
    "e = Employee('John', 50000)\n",
    "print(e)\n",
    "\n",
    "# Change the salary of the employee\n",
    "e.set_salary(60000)\n",
    "print(e)\n",
    "\n",
    "# Change the name of the employee\n",
    "e.set_name('Jane')\n",
    "print(e)\n",
    "\n",
    "# Get the salary of the employee\n",
    "print(e.get_salary())"
   ]
  },
  {
   "cell_type": "code",
   "execution_count": null,
   "metadata": {},
   "outputs": [],
   "source": [
    "# Data Abstraction is the process of hiding the implementation details and showing only the functionality to the user.\n",
    "# Data Abstraction can be achieved by using classes and objects in Python.\n",
    "# In Python, we can implement data abstraction using classes and objects.\n",
    "\n",
    "# In the above example, we have created a class Employee. The class has four methods __init__, get_salary, get_name, and __str__.\n",
    "# The __init__ method is a constructor method that is called when an object is created.\n",
    "# The get_salary method returns the salary of the employee.\n",
    "# The get_name method returns the name of the employee.\n",
    "# The __str__ method returns the string representation of the object."
   ]
  },
  {
   "cell_type": "code",
   "execution_count": 4,
   "metadata": {},
   "outputs": [
    {
     "ename": "TypeError",
     "evalue": "Can't instantiate abstract class Animal without an implementation for abstract method 'make_sound'",
     "output_type": "error",
     "traceback": [
      "\u001b[0;31m---------------------------------------------------------------------------\u001b[0m",
      "\u001b[0;31mTypeError\u001b[0m                                 Traceback (most recent call last)",
      "Cell \u001b[0;32mIn[4], line 48\u001b[0m\n\u001b[1;32m     46\u001b[0m dog \u001b[38;5;241m=\u001b[39m Dog()\n\u001b[1;32m     47\u001b[0m cat \u001b[38;5;241m=\u001b[39m Cat()\n\u001b[0;32m---> 48\u001b[0m \u001b[43mAnimal\u001b[49m\u001b[43m(\u001b[49m\u001b[43m)\u001b[49m  \u001b[38;5;66;03m# Output: TypeError: Can't instantiate abstract class Animal with abstract methods make_sound\u001b[39;00m\n\u001b[1;32m     49\u001b[0m \u001b[38;5;28mprint\u001b[39m(dog\u001b[38;5;241m.\u001b[39mmake_sound())  \u001b[38;5;66;03m# Output: Bark\u001b[39;00m\n\u001b[1;32m     50\u001b[0m \u001b[38;5;28mprint\u001b[39m(cat\u001b[38;5;241m.\u001b[39mmake_sound())  \u001b[38;5;66;03m# Output: Meow\u001b[39;00m\n",
      "\u001b[0;31mTypeError\u001b[0m: Can't instantiate abstract class Animal without an implementation for abstract method 'make_sound'"
     ]
    }
   ],
   "source": [
    "from abc import ABC, abstractmethod\n",
    "\n",
    "\"\"\"\n",
    "This module demonstrates the concept of abstraction in Python.\n",
    "\n",
    "Abstraction is a fundamental principle in object-oriented programming that involves hiding the complex implementation details of a system and exposing only the necessary and relevant parts to the user. This helps in reducing complexity and increases efficiency by allowing the user to interact with the system at a higher level.\n",
    "\n",
    "Classes and methods are used to achieve abstraction in Python. By defining abstract classes and methods, we can create a blueprint for other classes to follow, ensuring a consistent interface while hiding the underlying implementation details.\n",
    "\n",
    "Example:\n",
    "\n",
    "    class Animal(ABC):\n",
    "        @abstractmethod\n",
    "        def make_sound(self):\n",
    "            pass\n",
    "\n",
    "    class Dog(Animal):\n",
    "        def make_sound(self):\n",
    "            return \"Bark\"\n",
    "\n",
    "    class Cat(Animal):\n",
    "        def make_sound(self):\n",
    "            return \"Meow\"\n",
    "\n",
    "    dog = Dog()\n",
    "    cat = Cat()\n",
    "    print(dog.make_sound())  # Output: Bark\n",
    "    print(cat.make_sound())  # Output: Meow\n",
    "\n",
    "In this example, the `Animal` class is an abstract class with an abstract method `make_sound`. The `Dog` and `Cat` classes inherit from `Animal` and provide their own implementation of the `make_sound` method. This allows us to interact with `Dog` and `Cat` objects without needing to know the details of how the sound is produced.\n",
    "\"\"\"\n",
    "from abc import ABC, abstractmethod\n",
    "class Animal(ABC):\n",
    "    @abstractmethod\n",
    "    def make_sound(self):\n",
    "        pass\n",
    "\n",
    "class Dog(Animal):\n",
    "        def make_sound(self):\n",
    "            return \"Bark\"\n",
    "\n",
    "class Cat(Animal):\n",
    "        def make_sound(self):\n",
    "            return \"Meow\"\n",
    "\n",
    "dog = Dog()\n",
    "cat = Cat()\n",
    "Animal()  # Output: TypeError: Can't instantiate abstract class Animal with abstract methods make_sound\n",
    "print(dog.make_sound())  # Output: Bark\n",
    "print(cat.make_sound())  # Output: Meow"
   ]
  },
  {
   "cell_type": "code",
   "execution_count": 7,
   "metadata": {},
   "outputs": [
    {
     "name": "stdout",
     "output_type": "stream",
     "text": [
      "None\n"
     ]
    }
   ],
   "source": [
    "# class Student:\n",
    "#     \"\"\"The below block defines attributes\"\"\"\n",
    "#     def __init__(self):\n",
    "#         self.name = \"Ram\"\n",
    "#         self.age = 21\n",
    "#         self.marks = 89.75\n",
    "\n",
    "#     \"\"\"The below block defines a method\"\"\"\n",
    "#     def putdata(self):\n",
    "#         print(\"Name: \", self.name)\n",
    "#         print(\"Age: \", self.age)\n",
    "#         print(\"Marks: \", self.marks)\n",
    "\n",
    "# \"\"\"The below block creates an object of the class Student\"\"\"\n",
    "# s = Student()\n",
    "# print(s.putdata.__doc__)"
   ]
  },
  {
   "cell_type": "code",
   "execution_count": 15,
   "metadata": {},
   "outputs": [
    {
     "name": "stdout",
     "output_type": "stream",
     "text": [
      "Name:  Ram\n",
      "Age:  21\n",
      "The number of students:  3\n"
     ]
    }
   ],
   "source": [
    "# class variable and instance variable\n",
    "\n",
    "class Student:\n",
    "    # class variable\n",
    "    count = 0\n",
    "\n",
    "    def __init__(self, name, age):\n",
    "        # instance variable\n",
    "        self.name = name\n",
    "        self.age = age\n",
    "        Student.count += 1\n",
    "\n",
    "    def putdata(self):\n",
    "        print(\"Name: \", self.name)\n",
    "        print(\"Age: \", self.age)\n",
    "\n",
    "    @classmethod\n",
    "    def getcount(cls):\n",
    "        print(\"The number of students: \", cls.count)\n",
    "\n",
    "s1 = Student(\"Ram\", 21)\n",
    "s2 = Student(\"Shyam\", 22)\n",
    "s3 = Student(\"Mohan\", 23)\n",
    "s1.count = 100\n",
    "s1.putdata()\n",
    "s1.getcount()"
   ]
  }
 ],
 "metadata": {
  "kernelspec": {
   "display_name": "Python 3",
   "language": "python",
   "name": "python3"
  },
  "language_info": {
   "codemirror_mode": {
    "name": "ipython",
    "version": 3
   },
   "file_extension": ".py",
   "mimetype": "text/x-python",
   "name": "python",
   "nbconvert_exporter": "python",
   "pygments_lexer": "ipython3",
   "version": "3.12.1"
  }
 },
 "nbformat": 4,
 "nbformat_minor": 2
}
