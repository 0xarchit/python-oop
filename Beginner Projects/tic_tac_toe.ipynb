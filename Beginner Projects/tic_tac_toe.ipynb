{
 "cells": [
  {
   "cell_type": "code",
   "execution_count": 8,
   "metadata": {},
   "outputs": [
    {
     "name": "stdout",
     "output_type": "stream",
     "text": [
      "Welcome to Tic Tac Toe \n",
      "\n",
      " | | \n",
      "-----\n",
      " | | \n",
      "-----\n",
      " | | \n",
      "\n",
      "Welcome to Tic Tac Toe \n",
      "\n",
      " | | \n",
      "-----\n",
      "0| | \n",
      "-----\n",
      " | | \n",
      "\n"
     ]
    }
   ],
   "source": [
    "choices = [' ', ' ', ' ', ' ', ' ', ' ', ' ', ' ', ' ']\n",
    "\n",
    "st = '''\n",
    "{}|{}|{}\n",
    "-----\n",
    "{}|{}|{}\n",
    "-----\n",
    "{}|{}|{}\n",
    "'''.format(*choices)\n",
    "\n",
    "\n",
    "print('Welcome to Tic Tac Toe ')\n",
    "print(st)\n",
    "turns = '0'\n",
    "mv = int(input(f'Its your Turn {turns}, Your Moves [0-8] '))\n",
    "\n",
    "choices[mv] = turns\n",
    "\n",
    "turns = 'X' if turns == '0' else '0'\n",
    "\n",
    "st = '''\n",
    "{}|{}|{}\n",
    "-----\n",
    "{}|{}|{}\n",
    "-----\n",
    "{}|{}|{}\n",
    "'''.format(*choices)\n",
    "\n",
    "\n",
    "print('Welcome to Tic Tac Toe ')\n",
    "print(st)\n",
    "\n"
   ]
  }
 ],
 "metadata": {
  "kernelspec": {
   "display_name": "Python 3",
   "language": "python",
   "name": "python3"
  },
  "language_info": {
   "codemirror_mode": {
    "name": "ipython",
    "version": 3
   },
   "file_extension": ".py",
   "mimetype": "text/x-python",
   "name": "python",
   "nbconvert_exporter": "python",
   "pygments_lexer": "ipython3",
   "version": "3.12.1"
  }
 },
 "nbformat": 4,
 "nbformat_minor": 2
}
